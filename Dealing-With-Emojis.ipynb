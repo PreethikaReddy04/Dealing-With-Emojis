{
 "cells": [
  {
   "cell_type": "code",
   "execution_count": 1,
   "id": "90cf8dff",
   "metadata": {},
   "outputs": [
    {
     "name": "stdout",
     "output_type": "stream",
     "text": [
      "Collecting emot\n",
      "  Downloading emot-3.1-py3-none-any.whl (61 kB)\n",
      "     -------------------------------------- 61.5/61.5 kB 409.8 kB/s eta 0:00:00\n",
      "Installing collected packages: emot\n",
      "Successfully installed emot-3.1\n",
      "Note: you may need to restart the kernel to use updated packages.\n"
     ]
    }
   ],
   "source": [
    "pip install emot"
   ]
  },
  {
   "cell_type": "code",
   "execution_count": 8,
   "id": "aee3a0b5",
   "metadata": {},
   "outputs": [],
   "source": [
    "#create sample text data with emoji\n",
    "text1=\"What are you saying 😂.I am the boss 😎, and why are you so 😒\""
   ]
  },
  {
   "cell_type": "code",
   "execution_count": 9,
   "id": "c5ec5a2a",
   "metadata": {},
   "outputs": [],
   "source": [
    "#whindows+. -> display emoji\n",
    "#https://apps.timwhitlock.info/emoji/tables/unicode"
   ]
  },
  {
   "cell_type": "code",
   "execution_count": 10,
   "id": "03e64acd",
   "metadata": {},
   "outputs": [],
   "source": [
    "import re\n",
    "from emot.emo_unicode import UNICODE_EMOJI\n",
    "from emot.emo_unicode import EMOTICONS_EMO"
   ]
  },
  {
   "cell_type": "code",
   "execution_count": 11,
   "id": "d013dad1",
   "metadata": {},
   "outputs": [
    {
     "data": {
      "text/plain": [
       "'What are you saying face_with_tears_of_joy.I am the boss smiling_face_with_sunglasses, and why are you so unamused_face'"
      ]
     },
     "execution_count": 11,
     "metadata": {},
     "output_type": "execute_result"
    }
   ],
   "source": [
    "#function for converting emojis into word\n",
    "def converting_emojis(text):\n",
    "    for emot in UNICODE_EMOJI:\n",
    "        text=text.replace(emot,\"_\".join(UNICODE_EMOJI[emot].replace(\",\",\"\").replace(\":\",\"\").split()))\n",
    "    return text\n",
    "converting_emojis(text1)"
   ]
  },
  {
   "cell_type": "code",
   "execution_count": 18,
   "id": "6bb3a3b2",
   "metadata": {},
   "outputs": [
    {
     "data": {
      "text/plain": [
       "'What are you saying .I am the boss , and why are you so '"
      ]
     },
     "execution_count": 18,
     "metadata": {},
     "output_type": "execute_result"
    }
   ],
   "source": [
    "def emoji_removal(string):\n",
    "    emoji_unicodes=re.compile(\"[\"\n",
    "                             u\"\\U0001F600-\\U0001F64F\"\n",
    "                             u\"\\U0001F300-\\U0001FDFF\"\n",
    "                             u\"\\U0001F680-\\U0001F6FF\"\n",
    "                             u\"\\U0001F1E0-\\U0001F1FF\"\n",
    "                             u\"\\U00002500-\\U00002BEF\"\n",
    "                             u\"\\U00002702-\\U000027B0\"\n",
    "                             u\"\\U000024C2-\\U0001F251\"\n",
    "                             u\"\\U0001f926-\\U0001f937\"\n",
    "                             u\"\\U00010000-\\U0010ffff\"\n",
    "                             u\"\\u2640-\\u2642\"\n",
    "                             u\"\\u2600-\\u2B55\"\n",
    "                             u\"\\u200d\"\n",
    "                             u\"\\u23cf\"\n",
    "                             u\"\\u231a\"\n",
    "                             u\"\\ufe0f\"\n",
    "                             u\"\\u3030\"\n",
    "                             \"]+\",flags=re.UNICODE)\n",
    "    return emoji_unicodes.sub(r'',string)\n",
    "emoji_removal(text1)"
   ]
  },
  {
   "cell_type": "code",
   "execution_count": 19,
   "id": "4522499b",
   "metadata": {},
   "outputs": [
    {
     "data": {
      "text/html": [
       "<div>\n",
       "<style scoped>\n",
       "    .dataframe tbody tr th:only-of-type {\n",
       "        vertical-align: middle;\n",
       "    }\n",
       "\n",
       "    .dataframe tbody tr th {\n",
       "        vertical-align: top;\n",
       "    }\n",
       "\n",
       "    .dataframe thead th {\n",
       "        text-align: right;\n",
       "    }\n",
       "</style>\n",
       "<table border=\"1\" class=\"dataframe\">\n",
       "  <thead>\n",
       "    <tr style=\"text-align: right;\">\n",
       "      <th></th>\n",
       "      <th>text</th>\n",
       "    </tr>\n",
       "  </thead>\n",
       "  <tbody>\n",
       "    <tr>\n",
       "      <th>0</th>\n",
       "      <td>What are you saying 😂</td>\n",
       "    </tr>\n",
       "    <tr>\n",
       "      <th>1</th>\n",
       "      <td>I am the boss 😎</td>\n",
       "    </tr>\n",
       "    <tr>\n",
       "      <th>2</th>\n",
       "      <td>why are you so 😒</td>\n",
       "    </tr>\n",
       "  </tbody>\n",
       "</table>\n",
       "</div>"
      ],
      "text/plain": [
       "                    text\n",
       "0  What are you saying 😂\n",
       "1        I am the boss 😎\n",
       "2       why are you so 😒"
      ]
     },
     "execution_count": 19,
     "metadata": {},
     "output_type": "execute_result"
    }
   ],
   "source": [
    "sent=[\"What are you saying 😂\",\"I am the boss 😎\",\"why are you so 😒\"]\n",
    "import pandas as pd\n",
    "df=pd.DataFrame({'text':sent})\n",
    "df.head()"
   ]
  },
  {
   "cell_type": "code",
   "execution_count": null,
   "id": "f085f1b7",
   "metadata": {},
   "outputs": [],
   "source": []
  }
 ],
 "metadata": {
  "kernelspec": {
   "display_name": "Python 3 (ipykernel)",
   "language": "python",
   "name": "python3"
  },
  "language_info": {
   "codemirror_mode": {
    "name": "ipython",
    "version": 3
   },
   "file_extension": ".py",
   "mimetype": "text/x-python",
   "name": "python",
   "nbconvert_exporter": "python",
   "pygments_lexer": "ipython3",
   "version": "3.10.9"
  }
 },
 "nbformat": 4,
 "nbformat_minor": 5
}
